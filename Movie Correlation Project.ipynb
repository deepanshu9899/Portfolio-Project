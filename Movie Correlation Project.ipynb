{
 "cells": [
  {
   "cell_type": "code",
   "execution_count": 36,
   "id": "00c694d0-ee2b-48d7-a324-c25e61131375",
   "metadata": {},
   "outputs": [],
   "source": [
    "\n",
    "import pandas as pd\n",
    "import seaborn as sns\n",
    "import matplotlib.pyplot as plot"
   ]
  },
  {
   "cell_type": "code",
   "execution_count": 3,
   "id": "6a4608fe-1947-4c8b-83c8-ec94c00a1848",
   "metadata": {},
   "outputs": [],
   "source": [
    "file=pd.read_csv(r'C:\\Users\\deepa\\Downloads\\movies.csv')"
   ]
  },
  {
   "cell_type": "code",
   "execution_count": 4,
   "id": "af8bf6f7-8841-4100-b33d-03c768d272bb",
   "metadata": {},
   "outputs": [
    {
     "data": {
      "text/plain": [
       "0       19000000.0\n",
       "1        4500000.0\n",
       "2       18000000.0\n",
       "3        3500000.0\n",
       "4        6000000.0\n",
       "           ...    \n",
       "7663        7000.0\n",
       "7664           NaN\n",
       "7665       58750.0\n",
       "7666       15000.0\n",
       "7667           NaN\n",
       "Name: budget, Length: 7668, dtype: float64"
      ]
     },
     "execution_count": 4,
     "metadata": {},
     "output_type": "execute_result"
    }
   ],
   "source": [
    "file['budget']"
   ]
  },
  {
   "cell_type": "code",
   "execution_count": 38,
   "id": "b81c2b86-9640-48d0-9a76-984aa9085780",
   "metadata": {},
   "outputs": [],
   "source": [
    "pd.set_option('display.max.rows',7668)"
   ]
  },
  {
   "cell_type": "code",
   "execution_count": 39,
   "id": "a3a6b269-c714-481c-b0ab-c6ccbc2ac0c8",
   "metadata": {},
   "outputs": [],
   "source": [
    "mean_a=file[\"budget\"].mean().round()\n",
    "file[\"budget\"].fillna(mean_a, inplace = True)"
   ]
  },
  {
   "cell_type": "code",
   "execution_count": 40,
   "id": "c7659718-57d9-40e9-8f4b-98bfa69c1d77",
   "metadata": {},
   "outputs": [],
   "source": [
    "file['budget']=file['budget'].astype('int64')"
   ]
  },
  {
   "cell_type": "code",
   "execution_count": 42,
   "id": "ad0cff1b-8b03-41eb-ba57-bafbb78751ae",
   "metadata": {},
   "outputs": [
    {
     "data": {
      "text/plain": [
       "5445    237000000\n",
       "7445    356000000\n",
       "3045    200000000\n",
       "6663    245000000\n",
       "7244    321000000\n",
       "Name: budget, dtype: int64"
      ]
     },
     "execution_count": 42,
     "metadata": {},
     "output_type": "execute_result"
    }
   ],
   "source": [
    "file['budget'].head()"
   ]
  },
  {
   "cell_type": "code",
   "execution_count": 9,
   "id": "3b0c9aaf-e15d-416f-a0e9-1e6f124ebee1",
   "metadata": {},
   "outputs": [],
   "source": [
    "mean_b=file['gross'].mean().round()"
   ]
  },
  {
   "cell_type": "code",
   "execution_count": 10,
   "id": "3b225247-3c0f-4f2d-876f-69d04c7743ad",
   "metadata": {},
   "outputs": [
    {
     "data": {
      "text/plain": [
       "78500541.0"
      ]
     },
     "execution_count": 10,
     "metadata": {},
     "output_type": "execute_result"
    }
   ],
   "source": [
    "mean_b"
   ]
  },
  {
   "cell_type": "code",
   "execution_count": 11,
   "id": "7c394b43-9085-4343-97ef-1a08e5a3b7b6",
   "metadata": {},
   "outputs": [],
   "source": [
    "file['gross'].fillna(mean_b,inplace=True)"
   ]
  },
  {
   "cell_type": "code",
   "execution_count": 12,
   "id": "356e0e27-a0f3-45ce-99a3-14e0135809cf",
   "metadata": {},
   "outputs": [
    {
     "data": {
      "text/plain": [
       "0     46998772.0\n",
       "1     58853106.0\n",
       "2    538375067.0\n",
       "3     83453539.0\n",
       "4     39846344.0\n",
       "Name: gross, dtype: float64"
      ]
     },
     "execution_count": 12,
     "metadata": {},
     "output_type": "execute_result"
    }
   ],
   "source": [
    "file['gross'].head()"
   ]
  },
  {
   "cell_type": "code",
   "execution_count": 13,
   "id": "be359974-b157-43c4-a391-2d4b6e121618",
   "metadata": {},
   "outputs": [],
   "source": [
    "file['gross']=file['gross'].astype('int64')"
   ]
  },
  {
   "cell_type": "code",
   "execution_count": 43,
   "id": "4605c021-47c9-4e05-a268-d93ba4a23681",
   "metadata": {},
   "outputs": [
    {
     "data": {
      "text/plain": [
       "5445    2847246203\n",
       "7445    2797501328\n",
       "3045    2201647264\n",
       "6663    2069521700\n",
       "7244    2048359754\n",
       "Name: gross, dtype: int64"
      ]
     },
     "execution_count": 43,
     "metadata": {},
     "output_type": "execute_result"
    }
   ],
   "source": [
    "file['gross'].head()"
   ]
  },
  {
   "cell_type": "code",
   "execution_count": 44,
   "id": "836aab99-52c7-4c91-96b0-a66928a3c125",
   "metadata": {},
   "outputs": [
    {
     "data": {
      "text/html": [
       "<div>\n",
       "<style scoped>\n",
       "    .dataframe tbody tr th:only-of-type {\n",
       "        vertical-align: middle;\n",
       "    }\n",
       "\n",
       "    .dataframe tbody tr th {\n",
       "        vertical-align: top;\n",
       "    }\n",
       "\n",
       "    .dataframe thead th {\n",
       "        text-align: right;\n",
       "    }\n",
       "</style>\n",
       "<table border=\"1\" class=\"dataframe\">\n",
       "  <thead>\n",
       "    <tr style=\"text-align: right;\">\n",
       "      <th></th>\n",
       "      <th>name</th>\n",
       "      <th>rating</th>\n",
       "      <th>genre</th>\n",
       "      <th>year</th>\n",
       "      <th>released</th>\n",
       "      <th>score</th>\n",
       "      <th>votes</th>\n",
       "      <th>director</th>\n",
       "      <th>writer</th>\n",
       "      <th>star</th>\n",
       "      <th>country</th>\n",
       "      <th>budget</th>\n",
       "      <th>gross</th>\n",
       "      <th>company</th>\n",
       "      <th>runtime</th>\n",
       "      <th>correctyear</th>\n",
       "    </tr>\n",
       "  </thead>\n",
       "  <tbody>\n",
       "    <tr>\n",
       "      <th>5445</th>\n",
       "      <td>Avatar</td>\n",
       "      <td>PG-13</td>\n",
       "      <td>Action</td>\n",
       "      <td>2009</td>\n",
       "      <td>December 18, 2009 (United States)</td>\n",
       "      <td>7.8</td>\n",
       "      <td>1100000.0</td>\n",
       "      <td>James Cameron</td>\n",
       "      <td>James Cameron</td>\n",
       "      <td>Sam Worthington</td>\n",
       "      <td>United States</td>\n",
       "      <td>237000000</td>\n",
       "      <td>2847246203</td>\n",
       "      <td>Twentieth Century Fox</td>\n",
       "      <td>162.0</td>\n",
       "      <td>2009</td>\n",
       "    </tr>\n",
       "    <tr>\n",
       "      <th>7445</th>\n",
       "      <td>Avengers: Endgame</td>\n",
       "      <td>PG-13</td>\n",
       "      <td>Action</td>\n",
       "      <td>2019</td>\n",
       "      <td>April 26, 2019 (United States)</td>\n",
       "      <td>8.4</td>\n",
       "      <td>903000.0</td>\n",
       "      <td>Anthony Russo</td>\n",
       "      <td>Christopher Markus</td>\n",
       "      <td>Robert Downey Jr.</td>\n",
       "      <td>United States</td>\n",
       "      <td>356000000</td>\n",
       "      <td>2797501328</td>\n",
       "      <td>Marvel Studios</td>\n",
       "      <td>181.0</td>\n",
       "      <td>2019</td>\n",
       "    </tr>\n",
       "    <tr>\n",
       "      <th>3045</th>\n",
       "      <td>Titanic</td>\n",
       "      <td>PG-13</td>\n",
       "      <td>Drama</td>\n",
       "      <td>1997</td>\n",
       "      <td>December 19, 1997 (United States)</td>\n",
       "      <td>7.8</td>\n",
       "      <td>1100000.0</td>\n",
       "      <td>James Cameron</td>\n",
       "      <td>James Cameron</td>\n",
       "      <td>Leonardo DiCaprio</td>\n",
       "      <td>United States</td>\n",
       "      <td>200000000</td>\n",
       "      <td>2201647264</td>\n",
       "      <td>Twentieth Century Fox</td>\n",
       "      <td>194.0</td>\n",
       "      <td>1997</td>\n",
       "    </tr>\n",
       "    <tr>\n",
       "      <th>6663</th>\n",
       "      <td>Star Wars: Episode VII - The Force Awakens</td>\n",
       "      <td>PG-13</td>\n",
       "      <td>Action</td>\n",
       "      <td>2015</td>\n",
       "      <td>December 18, 2015 (United States)</td>\n",
       "      <td>7.8</td>\n",
       "      <td>876000.0</td>\n",
       "      <td>J.J. Abrams</td>\n",
       "      <td>Lawrence Kasdan</td>\n",
       "      <td>Daisy Ridley</td>\n",
       "      <td>United States</td>\n",
       "      <td>245000000</td>\n",
       "      <td>2069521700</td>\n",
       "      <td>Lucasfilm</td>\n",
       "      <td>138.0</td>\n",
       "      <td>2015</td>\n",
       "    </tr>\n",
       "    <tr>\n",
       "      <th>7244</th>\n",
       "      <td>Avengers: Infinity War</td>\n",
       "      <td>PG-13</td>\n",
       "      <td>Action</td>\n",
       "      <td>2018</td>\n",
       "      <td>April 27, 2018 (United States)</td>\n",
       "      <td>8.4</td>\n",
       "      <td>897000.0</td>\n",
       "      <td>Anthony Russo</td>\n",
       "      <td>Christopher Markus</td>\n",
       "      <td>Robert Downey Jr.</td>\n",
       "      <td>United States</td>\n",
       "      <td>321000000</td>\n",
       "      <td>2048359754</td>\n",
       "      <td>Marvel Studios</td>\n",
       "      <td>149.0</td>\n",
       "      <td>2018</td>\n",
       "    </tr>\n",
       "  </tbody>\n",
       "</table>\n",
       "</div>"
      ],
      "text/plain": [
       "                                            name rating   genre  year  \\\n",
       "5445                                      Avatar  PG-13  Action  2009   \n",
       "7445                           Avengers: Endgame  PG-13  Action  2019   \n",
       "3045                                     Titanic  PG-13   Drama  1997   \n",
       "6663  Star Wars: Episode VII - The Force Awakens  PG-13  Action  2015   \n",
       "7244                      Avengers: Infinity War  PG-13  Action  2018   \n",
       "\n",
       "                               released  score      votes       director  \\\n",
       "5445  December 18, 2009 (United States)    7.8  1100000.0  James Cameron   \n",
       "7445     April 26, 2019 (United States)    8.4   903000.0  Anthony Russo   \n",
       "3045  December 19, 1997 (United States)    7.8  1100000.0  James Cameron   \n",
       "6663  December 18, 2015 (United States)    7.8   876000.0    J.J. Abrams   \n",
       "7244     April 27, 2018 (United States)    8.4   897000.0  Anthony Russo   \n",
       "\n",
       "                  writer               star        country     budget  \\\n",
       "5445       James Cameron    Sam Worthington  United States  237000000   \n",
       "7445  Christopher Markus  Robert Downey Jr.  United States  356000000   \n",
       "3045       James Cameron  Leonardo DiCaprio  United States  200000000   \n",
       "6663     Lawrence Kasdan       Daisy Ridley  United States  245000000   \n",
       "7244  Christopher Markus  Robert Downey Jr.  United States  321000000   \n",
       "\n",
       "           gross                company  runtime correctyear  \n",
       "5445  2847246203  Twentieth Century Fox    162.0        2009  \n",
       "7445  2797501328         Marvel Studios    181.0        2019  \n",
       "3045  2201647264  Twentieth Century Fox    194.0        1997  \n",
       "6663  2069521700              Lucasfilm    138.0        2015  \n",
       "7244  2048359754         Marvel Studios    149.0        2018  "
      ]
     },
     "execution_count": 44,
     "metadata": {},
     "output_type": "execute_result"
    }
   ],
   "source": [
    "file.head()\n"
   ]
  },
  {
   "cell_type": "code",
   "execution_count": 16,
   "id": "f4dc64ba-2211-4965-ae5d-d4c7f0ebf24c",
   "metadata": {},
   "outputs": [],
   "source": [
    "list3=[]\n",
    "file['correctyear']=file['released'].str.split().str[2]"
   ]
  },
  {
   "cell_type": "code",
   "execution_count": 45,
   "id": "9d47d403-e5c2-4fd3-b0dc-67b6ba672eb1",
   "metadata": {},
   "outputs": [
    {
     "data": {
      "text/html": [
       "<div>\n",
       "<style scoped>\n",
       "    .dataframe tbody tr th:only-of-type {\n",
       "        vertical-align: middle;\n",
       "    }\n",
       "\n",
       "    .dataframe tbody tr th {\n",
       "        vertical-align: top;\n",
       "    }\n",
       "\n",
       "    .dataframe thead th {\n",
       "        text-align: right;\n",
       "    }\n",
       "</style>\n",
       "<table border=\"1\" class=\"dataframe\">\n",
       "  <thead>\n",
       "    <tr style=\"text-align: right;\">\n",
       "      <th></th>\n",
       "      <th>name</th>\n",
       "      <th>rating</th>\n",
       "      <th>genre</th>\n",
       "      <th>year</th>\n",
       "      <th>released</th>\n",
       "      <th>score</th>\n",
       "      <th>votes</th>\n",
       "      <th>director</th>\n",
       "      <th>writer</th>\n",
       "      <th>star</th>\n",
       "      <th>country</th>\n",
       "      <th>budget</th>\n",
       "      <th>gross</th>\n",
       "      <th>company</th>\n",
       "      <th>runtime</th>\n",
       "      <th>correctyear</th>\n",
       "    </tr>\n",
       "  </thead>\n",
       "  <tbody>\n",
       "    <tr>\n",
       "      <th>5445</th>\n",
       "      <td>Avatar</td>\n",
       "      <td>PG-13</td>\n",
       "      <td>Action</td>\n",
       "      <td>2009</td>\n",
       "      <td>December 18, 2009 (United States)</td>\n",
       "      <td>7.8</td>\n",
       "      <td>1100000.0</td>\n",
       "      <td>James Cameron</td>\n",
       "      <td>James Cameron</td>\n",
       "      <td>Sam Worthington</td>\n",
       "      <td>United States</td>\n",
       "      <td>237000000</td>\n",
       "      <td>2847246203</td>\n",
       "      <td>Twentieth Century Fox</td>\n",
       "      <td>162.0</td>\n",
       "      <td>2009</td>\n",
       "    </tr>\n",
       "    <tr>\n",
       "      <th>7445</th>\n",
       "      <td>Avengers: Endgame</td>\n",
       "      <td>PG-13</td>\n",
       "      <td>Action</td>\n",
       "      <td>2019</td>\n",
       "      <td>April 26, 2019 (United States)</td>\n",
       "      <td>8.4</td>\n",
       "      <td>903000.0</td>\n",
       "      <td>Anthony Russo</td>\n",
       "      <td>Christopher Markus</td>\n",
       "      <td>Robert Downey Jr.</td>\n",
       "      <td>United States</td>\n",
       "      <td>356000000</td>\n",
       "      <td>2797501328</td>\n",
       "      <td>Marvel Studios</td>\n",
       "      <td>181.0</td>\n",
       "      <td>2019</td>\n",
       "    </tr>\n",
       "    <tr>\n",
       "      <th>3045</th>\n",
       "      <td>Titanic</td>\n",
       "      <td>PG-13</td>\n",
       "      <td>Drama</td>\n",
       "      <td>1997</td>\n",
       "      <td>December 19, 1997 (United States)</td>\n",
       "      <td>7.8</td>\n",
       "      <td>1100000.0</td>\n",
       "      <td>James Cameron</td>\n",
       "      <td>James Cameron</td>\n",
       "      <td>Leonardo DiCaprio</td>\n",
       "      <td>United States</td>\n",
       "      <td>200000000</td>\n",
       "      <td>2201647264</td>\n",
       "      <td>Twentieth Century Fox</td>\n",
       "      <td>194.0</td>\n",
       "      <td>1997</td>\n",
       "    </tr>\n",
       "    <tr>\n",
       "      <th>6663</th>\n",
       "      <td>Star Wars: Episode VII - The Force Awakens</td>\n",
       "      <td>PG-13</td>\n",
       "      <td>Action</td>\n",
       "      <td>2015</td>\n",
       "      <td>December 18, 2015 (United States)</td>\n",
       "      <td>7.8</td>\n",
       "      <td>876000.0</td>\n",
       "      <td>J.J. Abrams</td>\n",
       "      <td>Lawrence Kasdan</td>\n",
       "      <td>Daisy Ridley</td>\n",
       "      <td>United States</td>\n",
       "      <td>245000000</td>\n",
       "      <td>2069521700</td>\n",
       "      <td>Lucasfilm</td>\n",
       "      <td>138.0</td>\n",
       "      <td>2015</td>\n",
       "    </tr>\n",
       "    <tr>\n",
       "      <th>7244</th>\n",
       "      <td>Avengers: Infinity War</td>\n",
       "      <td>PG-13</td>\n",
       "      <td>Action</td>\n",
       "      <td>2018</td>\n",
       "      <td>April 27, 2018 (United States)</td>\n",
       "      <td>8.4</td>\n",
       "      <td>897000.0</td>\n",
       "      <td>Anthony Russo</td>\n",
       "      <td>Christopher Markus</td>\n",
       "      <td>Robert Downey Jr.</td>\n",
       "      <td>United States</td>\n",
       "      <td>321000000</td>\n",
       "      <td>2048359754</td>\n",
       "      <td>Marvel Studios</td>\n",
       "      <td>149.0</td>\n",
       "      <td>2018</td>\n",
       "    </tr>\n",
       "  </tbody>\n",
       "</table>\n",
       "</div>"
      ],
      "text/plain": [
       "                                            name rating   genre  year  \\\n",
       "5445                                      Avatar  PG-13  Action  2009   \n",
       "7445                           Avengers: Endgame  PG-13  Action  2019   \n",
       "3045                                     Titanic  PG-13   Drama  1997   \n",
       "6663  Star Wars: Episode VII - The Force Awakens  PG-13  Action  2015   \n",
       "7244                      Avengers: Infinity War  PG-13  Action  2018   \n",
       "\n",
       "                               released  score      votes       director  \\\n",
       "5445  December 18, 2009 (United States)    7.8  1100000.0  James Cameron   \n",
       "7445     April 26, 2019 (United States)    8.4   903000.0  Anthony Russo   \n",
       "3045  December 19, 1997 (United States)    7.8  1100000.0  James Cameron   \n",
       "6663  December 18, 2015 (United States)    7.8   876000.0    J.J. Abrams   \n",
       "7244     April 27, 2018 (United States)    8.4   897000.0  Anthony Russo   \n",
       "\n",
       "                  writer               star        country     budget  \\\n",
       "5445       James Cameron    Sam Worthington  United States  237000000   \n",
       "7445  Christopher Markus  Robert Downey Jr.  United States  356000000   \n",
       "3045       James Cameron  Leonardo DiCaprio  United States  200000000   \n",
       "6663     Lawrence Kasdan       Daisy Ridley  United States  245000000   \n",
       "7244  Christopher Markus  Robert Downey Jr.  United States  321000000   \n",
       "\n",
       "           gross                company  runtime correctyear  \n",
       "5445  2847246203  Twentieth Century Fox    162.0        2009  \n",
       "7445  2797501328         Marvel Studios    181.0        2019  \n",
       "3045  2201647264  Twentieth Century Fox    194.0        1997  \n",
       "6663  2069521700              Lucasfilm    138.0        2015  \n",
       "7244  2048359754         Marvel Studios    149.0        2018  "
      ]
     },
     "execution_count": 45,
     "metadata": {},
     "output_type": "execute_result"
    }
   ],
   "source": [
    "file.head()"
   ]
  },
  {
   "cell_type": "code",
   "execution_count": null,
   "id": "5147dd0e-7222-40ea-8e53-445ed42c21fb",
   "metadata": {},
   "outputs": [],
   "source": []
  },
  {
   "cell_type": "code",
   "execution_count": 52,
   "id": "7e86370f-555a-43cc-a675-57de62f43ba5",
   "metadata": {},
   "outputs": [],
   "source": [
    "file=file.sort_values(by='gross',inplace=False,ascending=False)"
   ]
  },
  {
   "cell_type": "code",
   "execution_count": 53,
   "id": "fd3e9583-5cfe-4be6-a3c0-1d02f501374e",
   "metadata": {},
   "outputs": [
    {
     "data": {
      "text/html": [
       "<div>\n",
       "<style scoped>\n",
       "    .dataframe tbody tr th:only-of-type {\n",
       "        vertical-align: middle;\n",
       "    }\n",
       "\n",
       "    .dataframe tbody tr th {\n",
       "        vertical-align: top;\n",
       "    }\n",
       "\n",
       "    .dataframe thead th {\n",
       "        text-align: right;\n",
       "    }\n",
       "</style>\n",
       "<table border=\"1\" class=\"dataframe\">\n",
       "  <thead>\n",
       "    <tr style=\"text-align: right;\">\n",
       "      <th></th>\n",
       "      <th>name</th>\n",
       "      <th>rating</th>\n",
       "      <th>genre</th>\n",
       "      <th>year</th>\n",
       "      <th>released</th>\n",
       "      <th>score</th>\n",
       "      <th>votes</th>\n",
       "      <th>director</th>\n",
       "      <th>writer</th>\n",
       "      <th>star</th>\n",
       "      <th>country</th>\n",
       "      <th>budget</th>\n",
       "      <th>gross</th>\n",
       "      <th>company</th>\n",
       "      <th>runtime</th>\n",
       "      <th>correctyear</th>\n",
       "    </tr>\n",
       "  </thead>\n",
       "  <tbody>\n",
       "    <tr>\n",
       "      <th>5445</th>\n",
       "      <td>Avatar</td>\n",
       "      <td>PG-13</td>\n",
       "      <td>Action</td>\n",
       "      <td>2009</td>\n",
       "      <td>December 18, 2009 (United States)</td>\n",
       "      <td>7.8</td>\n",
       "      <td>1100000.0</td>\n",
       "      <td>James Cameron</td>\n",
       "      <td>James Cameron</td>\n",
       "      <td>Sam Worthington</td>\n",
       "      <td>United States</td>\n",
       "      <td>237000000</td>\n",
       "      <td>2847246203</td>\n",
       "      <td>Twentieth Century Fox</td>\n",
       "      <td>162.0</td>\n",
       "      <td>2009</td>\n",
       "    </tr>\n",
       "    <tr>\n",
       "      <th>7445</th>\n",
       "      <td>Avengers: Endgame</td>\n",
       "      <td>PG-13</td>\n",
       "      <td>Action</td>\n",
       "      <td>2019</td>\n",
       "      <td>April 26, 2019 (United States)</td>\n",
       "      <td>8.4</td>\n",
       "      <td>903000.0</td>\n",
       "      <td>Anthony Russo</td>\n",
       "      <td>Christopher Markus</td>\n",
       "      <td>Robert Downey Jr.</td>\n",
       "      <td>United States</td>\n",
       "      <td>356000000</td>\n",
       "      <td>2797501328</td>\n",
       "      <td>Marvel Studios</td>\n",
       "      <td>181.0</td>\n",
       "      <td>2019</td>\n",
       "    </tr>\n",
       "    <tr>\n",
       "      <th>3045</th>\n",
       "      <td>Titanic</td>\n",
       "      <td>PG-13</td>\n",
       "      <td>Drama</td>\n",
       "      <td>1997</td>\n",
       "      <td>December 19, 1997 (United States)</td>\n",
       "      <td>7.8</td>\n",
       "      <td>1100000.0</td>\n",
       "      <td>James Cameron</td>\n",
       "      <td>James Cameron</td>\n",
       "      <td>Leonardo DiCaprio</td>\n",
       "      <td>United States</td>\n",
       "      <td>200000000</td>\n",
       "      <td>2201647264</td>\n",
       "      <td>Twentieth Century Fox</td>\n",
       "      <td>194.0</td>\n",
       "      <td>1997</td>\n",
       "    </tr>\n",
       "    <tr>\n",
       "      <th>6663</th>\n",
       "      <td>Star Wars: Episode VII - The Force Awakens</td>\n",
       "      <td>PG-13</td>\n",
       "      <td>Action</td>\n",
       "      <td>2015</td>\n",
       "      <td>December 18, 2015 (United States)</td>\n",
       "      <td>7.8</td>\n",
       "      <td>876000.0</td>\n",
       "      <td>J.J. Abrams</td>\n",
       "      <td>Lawrence Kasdan</td>\n",
       "      <td>Daisy Ridley</td>\n",
       "      <td>United States</td>\n",
       "      <td>245000000</td>\n",
       "      <td>2069521700</td>\n",
       "      <td>Lucasfilm</td>\n",
       "      <td>138.0</td>\n",
       "      <td>2015</td>\n",
       "    </tr>\n",
       "    <tr>\n",
       "      <th>7244</th>\n",
       "      <td>Avengers: Infinity War</td>\n",
       "      <td>PG-13</td>\n",
       "      <td>Action</td>\n",
       "      <td>2018</td>\n",
       "      <td>April 27, 2018 (United States)</td>\n",
       "      <td>8.4</td>\n",
       "      <td>897000.0</td>\n",
       "      <td>Anthony Russo</td>\n",
       "      <td>Christopher Markus</td>\n",
       "      <td>Robert Downey Jr.</td>\n",
       "      <td>United States</td>\n",
       "      <td>321000000</td>\n",
       "      <td>2048359754</td>\n",
       "      <td>Marvel Studios</td>\n",
       "      <td>149.0</td>\n",
       "      <td>2018</td>\n",
       "    </tr>\n",
       "  </tbody>\n",
       "</table>\n",
       "</div>"
      ],
      "text/plain": [
       "                                            name rating   genre  year  \\\n",
       "5445                                      Avatar  PG-13  Action  2009   \n",
       "7445                           Avengers: Endgame  PG-13  Action  2019   \n",
       "3045                                     Titanic  PG-13   Drama  1997   \n",
       "6663  Star Wars: Episode VII - The Force Awakens  PG-13  Action  2015   \n",
       "7244                      Avengers: Infinity War  PG-13  Action  2018   \n",
       "\n",
       "                               released  score      votes       director  \\\n",
       "5445  December 18, 2009 (United States)    7.8  1100000.0  James Cameron   \n",
       "7445     April 26, 2019 (United States)    8.4   903000.0  Anthony Russo   \n",
       "3045  December 19, 1997 (United States)    7.8  1100000.0  James Cameron   \n",
       "6663  December 18, 2015 (United States)    7.8   876000.0    J.J. Abrams   \n",
       "7244     April 27, 2018 (United States)    8.4   897000.0  Anthony Russo   \n",
       "\n",
       "                  writer               star        country     budget  \\\n",
       "5445       James Cameron    Sam Worthington  United States  237000000   \n",
       "7445  Christopher Markus  Robert Downey Jr.  United States  356000000   \n",
       "3045       James Cameron  Leonardo DiCaprio  United States  200000000   \n",
       "6663     Lawrence Kasdan       Daisy Ridley  United States  245000000   \n",
       "7244  Christopher Markus  Robert Downey Jr.  United States  321000000   \n",
       "\n",
       "           gross                company  runtime correctyear  \n",
       "5445  2847246203  Twentieth Century Fox    162.0        2009  \n",
       "7445  2797501328         Marvel Studios    181.0        2019  \n",
       "3045  2201647264  Twentieth Century Fox    194.0        1997  \n",
       "6663  2069521700              Lucasfilm    138.0        2015  \n",
       "7244  2048359754         Marvel Studios    149.0        2018  "
      ]
     },
     "execution_count": 53,
     "metadata": {},
     "output_type": "execute_result"
    }
   ],
   "source": [
    "file.head()"
   ]
  },
  {
   "cell_type": "code",
   "execution_count": 54,
   "id": "1054ff44-6592-4f9f-9dd5-e9deab0e812e",
   "metadata": {},
   "outputs": [],
   "source": [
    "file=file.drop_duplicates()"
   ]
  },
  {
   "cell_type": "code",
   "execution_count": 55,
   "id": "a51b92ee-6a5d-4551-b04c-3612ea67097c",
   "metadata": {},
   "outputs": [
    {
     "data": {
      "text/plain": [
       "Text(0, 0.5, 'Budget for Film')"
      ]
     },
     "execution_count": 55,
     "metadata": {},
     "output_type": "execute_result"
    },
    {
     "data": {
      "image/png": "[encoded data removed]",
      "text/plain": [
       "<Figure size 640x480 with 1 Axes>"
      ]
     },
     "metadata": {},
     "output_type": "display_data"
    }
   ],
   "source": [
    "plot.scatter(x=file['budget'],y=file['gross'],s=10,c='Black')\n",
    "plot.title('Budget vs Gross Earnings')\n",
    "plot.xlabel('Gross Earnings')\n",
    "plot.ylabel('Budget for Film')"
   ]
  },
  {
   "cell_type": "code",
   "execution_count": 56,
   "id": "b60d8a65-041d-43a1-a7a8-2fd22f78a215",
   "metadata": {},
   "outputs": [
    {
     "data": {
      "text/plain": [
       "<Axes: xlabel='budget', ylabel='gross'>"
      ]
     },
     "execution_count": 56,
     "metadata": {},
     "output_type": "execute_result"
    },
    {
     "data": {
      "image/png": "[encoded data removed]",
      "text/plain": [
       "<Figure size 640x480 with 1 Axes>"
      ]
     },
     "metadata": {},
     "output_type": "display_data"
    }
   ],
   "source": [
    "sns.regplot(x='budget',y='gross',data=file,scatter_kws={\"color\":\"red\"},line_kws={\"color\":\"blue\"} ,)"
   ]
  },
  {
   "cell_type": "code",
   "execution_count": 57,
   "id": "212e154c-af35-4675-abf8-d32f00d0ebd3",
   "metadata": {},
   "outputs": [
    {
     "data": {
      "text/html": [
       "<div>\n",
       "<style scoped>\n",
       "    .dataframe tbody tr th:only-of-type {\n",
       "        vertical-align: middle;\n",
       "    }\n",
       "\n",
       "    .dataframe tbody tr th {\n",
       "        vertical-align: top;\n",
       "    }\n",
       "\n",
       "    .dataframe thead th {\n",
       "        text-align: right;\n",
       "    }\n",
       "</style>\n",
       "<table border=\"1\" class=\"dataframe\">\n",
       "  <thead>\n",
       "    <tr style=\"text-align: right;\">\n",
       "      <th></th>\n",
       "      <th>year</th>\n",
       "      <th>score</th>\n",
       "      <th>votes</th>\n",
       "      <th>budget</th>\n",
       "      <th>gross</th>\n",
       "      <th>runtime</th>\n",
       "    </tr>\n",
       "  </thead>\n",
       "  <tbody>\n",
       "    <tr>\n",
       "      <th>year</th>\n",
       "      <td>1.000000</td>\n",
       "      <td>0.097995</td>\n",
       "      <td>0.222945</td>\n",
       "      <td>0.265578</td>\n",
       "      <td>0.252042</td>\n",
       "      <td>0.120811</td>\n",
       "    </tr>\n",
       "    <tr>\n",
       "      <th>score</th>\n",
       "      <td>0.097995</td>\n",
       "      <td>1.000000</td>\n",
       "      <td>0.409182</td>\n",
       "      <td>0.064554</td>\n",
       "      <td>0.182868</td>\n",
       "      <td>0.399451</td>\n",
       "    </tr>\n",
       "    <tr>\n",
       "      <th>votes</th>\n",
       "      <td>0.222945</td>\n",
       "      <td>0.409182</td>\n",
       "      <td>1.000000</td>\n",
       "      <td>0.421090</td>\n",
       "      <td>0.628713</td>\n",
       "      <td>0.309212</td>\n",
       "    </tr>\n",
       "    <tr>\n",
       "      <th>budget</th>\n",
       "      <td>0.265578</td>\n",
       "      <td>0.064554</td>\n",
       "      <td>0.421090</td>\n",
       "      <td>1.000000</td>\n",
       "      <td>0.711270</td>\n",
       "      <td>0.265305</td>\n",
       "    </tr>\n",
       "    <tr>\n",
       "      <th>gross</th>\n",
       "      <td>0.252042</td>\n",
       "      <td>0.182868</td>\n",
       "      <td>0.628713</td>\n",
       "      <td>0.711270</td>\n",
       "      <td>1.000000</td>\n",
       "      <td>0.241336</td>\n",
       "    </tr>\n",
       "    <tr>\n",
       "      <th>runtime</th>\n",
       "      <td>0.120811</td>\n",
       "      <td>0.399451</td>\n",
       "      <td>0.309212</td>\n",
       "      <td>0.265305</td>\n",
       "      <td>0.241336</td>\n",
       "      <td>1.000000</td>\n",
       "    </tr>\n",
       "  </tbody>\n",
       "</table>\n",
       "</div>"
      ],
      "text/plain": [
       "             year     score     votes    budget     gross   runtime\n",
       "year     1.000000  0.097995  0.222945  0.265578  0.252042  0.120811\n",
       "score    0.097995  1.000000  0.409182  0.064554  0.182868  0.399451\n",
       "votes    0.222945  0.409182  1.000000  0.421090  0.628713  0.309212\n",
       "budget   0.265578  0.064554  0.421090  1.000000  0.711270  0.265305\n",
       "gross    0.252042  0.182868  0.628713  0.711270  1.000000  0.241336\n",
       "runtime  0.120811  0.399451  0.309212  0.265305  0.241336  1.000000"
      ]
     },
     "execution_count": 57,
     "metadata": {},
     "output_type": "execute_result"
    }
   ],
   "source": [
    "file.corr(numeric_only=True,method='pearson')"
   ]
  },
  {
   "cell_type": "code",
   "execution_count": 58,
   "id": "6b77376c-7b42-437c-9897-e79f04b3cfb1",
   "metadata": {},
   "outputs": [],
   "source": [
    "correlation_matrix=file.corr(numeric_only=True,method='pearson')"
   ]
  },
  {
   "cell_type": "code",
   "execution_count": 59,
   "id": "0fc2f377-6e9a-4fbc-afbf-730cf6556813",
   "metadata": {},
   "outputs": [
    {
     "data": {
      "image/png": "[encoded data removed]",
      "text/plain": [
       "<Figure size 640x480 with 2 Axes>"
      ]
     },
     "metadata": {},
     "output_type": "display_data"
    }
   ],
   "source": [
    "sns.heatmap(correlation_matrix,annot=True)\n",
    "plot.show()"
   ]
  },
  {
   "cell_type": "code",
   "execution_count": 60,
   "id": "28aa2967-934f-44e4-aadc-2cd1c7370828",
   "metadata": {},
   "outputs": [],
   "source": [
    "file_numerized=file"
   ]
  },
  {
   "cell_type": "code",
   "execution_count": 61,
   "id": "3458ae5b-5aef-4e9c-a549-95bc1e0eca01",
   "metadata": {},
   "outputs": [],
   "source": [
    "for col_name in file.columns:\n",
    "    if(file[col_name].dtype=='object'):\n",
    "        file[col_name]=file[col_name].astype('category')\n",
    "        file[col_name]=file[col_name].cat.codes"
   ]
  },
  {
   "cell_type": "code",
   "execution_count": 62,
   "id": "48f64da4-c4b4-4f94-88b2-4697b9dc6a2d",
   "metadata": {},
   "outputs": [
    {
     "data": {
      "text/html": [
       "<div>\n",
       "<style scoped>\n",
       "    .dataframe tbody tr th:only-of-type {\n",
       "        vertical-align: middle;\n",
       "    }\n",
       "\n",
       "    .dataframe tbody tr th {\n",
       "        vertical-align: top;\n",
       "    }\n",
       "\n",
       "    .dataframe thead th {\n",
       "        text-align: right;\n",
       "    }\n",
       "</style>\n",
       "<table border=\"1\" class=\"dataframe\">\n",
       "  <thead>\n",
       "    <tr style=\"text-align: right;\">\n",
       "      <th></th>\n",
       "      <th>name</th>\n",
       "      <th>rating</th>\n",
       "      <th>genre</th>\n",
       "      <th>year</th>\n",
       "      <th>released</th>\n",
       "      <th>score</th>\n",
       "      <th>votes</th>\n",
       "      <th>director</th>\n",
       "      <th>writer</th>\n",
       "      <th>star</th>\n",
       "      <th>country</th>\n",
       "      <th>budget</th>\n",
       "      <th>gross</th>\n",
       "      <th>company</th>\n",
       "      <th>runtime</th>\n",
       "      <th>correctyear</th>\n",
       "    </tr>\n",
       "  </thead>\n",
       "  <tbody>\n",
       "    <tr>\n",
       "      <th>5445</th>\n",
       "      <td>533</td>\n",
       "      <td>5</td>\n",
       "      <td>0</td>\n",
       "      <td>2009</td>\n",
       "      <td>696</td>\n",
       "      <td>7.8</td>\n",
       "      <td>1100000.0</td>\n",
       "      <td>1155</td>\n",
       "      <td>1778</td>\n",
       "      <td>2334</td>\n",
       "      <td>55</td>\n",
       "      <td>237000000</td>\n",
       "      <td>2847246203</td>\n",
       "      <td>2253</td>\n",
       "      <td>162.0</td>\n",
       "      <td>31</td>\n",
       "    </tr>\n",
       "    <tr>\n",
       "      <th>7445</th>\n",
       "      <td>535</td>\n",
       "      <td>5</td>\n",
       "      <td>0</td>\n",
       "      <td>2019</td>\n",
       "      <td>183</td>\n",
       "      <td>8.4</td>\n",
       "      <td>903000.0</td>\n",
       "      <td>162</td>\n",
       "      <td>743</td>\n",
       "      <td>2241</td>\n",
       "      <td>55</td>\n",
       "      <td>356000000</td>\n",
       "      <td>2797501328</td>\n",
       "      <td>1606</td>\n",
       "      <td>181.0</td>\n",
       "      <td>41</td>\n",
       "    </tr>\n",
       "    <tr>\n",
       "      <th>3045</th>\n",
       "      <td>6896</td>\n",
       "      <td>5</td>\n",
       "      <td>6</td>\n",
       "      <td>1997</td>\n",
       "      <td>704</td>\n",
       "      <td>7.8</td>\n",
       "      <td>1100000.0</td>\n",
       "      <td>1155</td>\n",
       "      <td>1778</td>\n",
       "      <td>1595</td>\n",
       "      <td>55</td>\n",
       "      <td>200000000</td>\n",
       "      <td>2201647264</td>\n",
       "      <td>2253</td>\n",
       "      <td>194.0</td>\n",
       "      <td>19</td>\n",
       "    </tr>\n",
       "    <tr>\n",
       "      <th>6663</th>\n",
       "      <td>5144</td>\n",
       "      <td>5</td>\n",
       "      <td>0</td>\n",
       "      <td>2015</td>\n",
       "      <td>698</td>\n",
       "      <td>7.8</td>\n",
       "      <td>876000.0</td>\n",
       "      <td>1125</td>\n",
       "      <td>2550</td>\n",
       "      <td>524</td>\n",
       "      <td>55</td>\n",
       "      <td>245000000</td>\n",
       "      <td>2069521700</td>\n",
       "      <td>1540</td>\n",
       "      <td>138.0</td>\n",
       "      <td>37</td>\n",
       "    </tr>\n",
       "    <tr>\n",
       "      <th>7244</th>\n",
       "      <td>536</td>\n",
       "      <td>5</td>\n",
       "      <td>0</td>\n",
       "      <td>2018</td>\n",
       "      <td>192</td>\n",
       "      <td>8.4</td>\n",
       "      <td>897000.0</td>\n",
       "      <td>162</td>\n",
       "      <td>743</td>\n",
       "      <td>2241</td>\n",
       "      <td>55</td>\n",
       "      <td>321000000</td>\n",
       "      <td>2048359754</td>\n",
       "      <td>1606</td>\n",
       "      <td>149.0</td>\n",
       "      <td>40</td>\n",
       "    </tr>\n",
       "  </tbody>\n",
       "</table>\n",
       "</div>"
      ],
      "text/plain": [
       "      name  rating  genre  year  released  score      votes  director  writer  \\\n",
       "5445   533       5      0  2009       696    7.8  1100000.0      1155    1778   \n",
       "7445   535       5      0  2019       183    8.4   903000.0       162     743   \n",
       "3045  6896       5      6  1997       704    7.8  1100000.0      1155    1778   \n",
       "6663  5144       5      0  2015       698    7.8   876000.0      1125    2550   \n",
       "7244   536       5      0  2018       192    8.4   897000.0       162     743   \n",
       "\n",
       "      star  country     budget       gross  company  runtime  correctyear  \n",
       "5445  2334       55  237000000  2847246203     2253    162.0           31  \n",
       "7445  2241       55  356000000  2797501328     1606    181.0           41  \n",
       "3045  1595       55  200000000  2201647264     2253    194.0           19  \n",
       "6663   524       55  245000000  2069521700     1540    138.0           37  \n",
       "7244  2241       55  321000000  2048359754     1606    149.0           40  "
      ]
     },
     "execution_count": 62,
     "metadata": {},
     "output_type": "execute_result"
    }
   ],
   "source": [
    "file_numerized.head()"
   ]
  },
  {
   "cell_type": "code",
   "execution_count": 63,
   "id": "7a89c26f-9ea0-4da8-ad84-4a63df311889",
   "metadata": {},
   "outputs": [
    {
     "data": {
      "text/html": [
       "<div>\n",
       "<style scoped>\n",
       "    .dataframe tbody tr th:only-of-type {\n",
       "        vertical-align: middle;\n",
       "    }\n",
       "\n",
       "    .dataframe tbody tr th {\n",
       "        vertical-align: top;\n",
       "    }\n",
       "\n",
       "    .dataframe thead th {\n",
       "        text-align: right;\n",
       "    }\n",
       "</style>\n",
       "<table border=\"1\" class=\"dataframe\">\n",
       "  <thead>\n",
       "    <tr style=\"text-align: right;\">\n",
       "      <th></th>\n",
       "      <th>name</th>\n",
       "      <th>rating</th>\n",
       "      <th>genre</th>\n",
       "      <th>year</th>\n",
       "      <th>released</th>\n",
       "      <th>score</th>\n",
       "      <th>votes</th>\n",
       "      <th>director</th>\n",
       "      <th>writer</th>\n",
       "      <th>star</th>\n",
       "      <th>country</th>\n",
       "      <th>budget</th>\n",
       "      <th>gross</th>\n",
       "      <th>company</th>\n",
       "      <th>runtime</th>\n",
       "      <th>correctyear</th>\n",
       "    </tr>\n",
       "  </thead>\n",
       "  <tbody>\n",
       "    <tr>\n",
       "      <th>name</th>\n",
       "      <td>1.000000</td>\n",
       "      <td>-0.008069</td>\n",
       "      <td>0.016355</td>\n",
       "      <td>0.011453</td>\n",
       "      <td>-0.011311</td>\n",
       "      <td>0.017097</td>\n",
       "      <td>0.013088</td>\n",
       "      <td>0.009079</td>\n",
       "      <td>0.009081</td>\n",
       "      <td>0.006472</td>\n",
       "      <td>-0.010737</td>\n",
       "      <td>0.020368</td>\n",
       "      <td>0.005466</td>\n",
       "      <td>0.009211</td>\n",
       "      <td>0.010392</td>\n",
       "      <td>0.010071</td>\n",
       "    </tr>\n",
       "    <tr>\n",
       "      <th>rating</th>\n",
       "      <td>-0.008069</td>\n",
       "      <td>1.000000</td>\n",
       "      <td>0.072423</td>\n",
       "      <td>0.008779</td>\n",
       "      <td>0.016613</td>\n",
       "      <td>-0.001314</td>\n",
       "      <td>0.033225</td>\n",
       "      <td>0.019483</td>\n",
       "      <td>-0.005921</td>\n",
       "      <td>0.013405</td>\n",
       "      <td>0.081244</td>\n",
       "      <td>-0.126046</td>\n",
       "      <td>-0.102116</td>\n",
       "      <td>-0.032943</td>\n",
       "      <td>0.062145</td>\n",
       "      <td>0.008230</td>\n",
       "    </tr>\n",
       "    <tr>\n",
       "      <th>genre</th>\n",
       "      <td>0.016355</td>\n",
       "      <td>0.072423</td>\n",
       "      <td>1.000000</td>\n",
       "      <td>-0.081261</td>\n",
       "      <td>0.029822</td>\n",
       "      <td>0.027965</td>\n",
       "      <td>-0.145307</td>\n",
       "      <td>-0.015258</td>\n",
       "      <td>0.006567</td>\n",
       "      <td>-0.005477</td>\n",
       "      <td>-0.037615</td>\n",
       "      <td>-0.310566</td>\n",
       "      <td>-0.230267</td>\n",
       "      <td>-0.071067</td>\n",
       "      <td>-0.052711</td>\n",
       "      <td>-0.078972</td>\n",
       "    </tr>\n",
       "    <tr>\n",
       "      <th>year</th>\n",
       "      <td>0.011453</td>\n",
       "      <td>0.008779</td>\n",
       "      <td>-0.081261</td>\n",
       "      <td>1.000000</td>\n",
       "      <td>-0.000695</td>\n",
       "      <td>0.097995</td>\n",
       "      <td>0.222945</td>\n",
       "      <td>-0.020795</td>\n",
       "      <td>-0.008656</td>\n",
       "      <td>-0.027242</td>\n",
       "      <td>-0.070938</td>\n",
       "      <td>0.265578</td>\n",
       "      <td>0.252042</td>\n",
       "      <td>-0.010431</td>\n",
       "      <td>0.120811</td>\n",
       "      <td>0.990063</td>\n",
       "    </tr>\n",
       "    <tr>\n",
       "      <th>released</th>\n",
       "      <td>-0.011311</td>\n",
       "      <td>0.016613</td>\n",
       "      <td>0.029822</td>\n",
       "      <td>-0.000695</td>\n",
       "      <td>1.000000</td>\n",
       "      <td>0.042788</td>\n",
       "      <td>0.016097</td>\n",
       "      <td>-0.001478</td>\n",
       "      <td>-0.002404</td>\n",
       "      <td>0.015777</td>\n",
       "      <td>-0.020427</td>\n",
       "      <td>0.012263</td>\n",
       "      <td>0.001636</td>\n",
       "      <td>-0.010474</td>\n",
       "      <td>0.000868</td>\n",
       "      <td>-0.006411</td>\n",
       "    </tr>\n",
       "  </tbody>\n",
       "</table>\n",
       "</div>"
      ],
      "text/plain": [
       "              name    rating     genre      year  released     score  \\\n",
       "name      1.000000 -0.008069  0.016355  0.011453 -0.011311  0.017097   \n",
       "rating   -0.008069  1.000000  0.072423  0.008779  0.016613 -0.001314   \n",
       "genre     0.016355  0.072423  1.000000 -0.081261  0.029822  0.027965   \n",
       "year      0.011453  0.008779 -0.081261  1.000000 -0.000695  0.097995   \n",
       "released -0.011311  0.016613  0.029822 -0.000695  1.000000  0.042788   \n",
       "\n",
       "             votes  director    writer      star   country    budget  \\\n",
       "name      0.013088  0.009079  0.009081  0.006472 -0.010737  0.020368   \n",
       "rating    0.033225  0.019483 -0.005921  0.013405  0.081244 -0.126046   \n",
       "genre    -0.145307 -0.015258  0.006567 -0.005477 -0.037615 -0.310566   \n",
       "year      0.222945 -0.020795 -0.008656 -0.027242 -0.070938  0.265578   \n",
       "released  0.016097 -0.001478 -0.002404  0.015777 -0.020427  0.012263   \n",
       "\n",
       "             gross   company   runtime  correctyear  \n",
       "name      0.005466  0.009211  0.010392     0.010071  \n",
       "rating   -0.102116 -0.032943  0.062145     0.008230  \n",
       "genre    -0.230267 -0.071067 -0.052711    -0.078972  \n",
       "year      0.252042 -0.010431  0.120811     0.990063  \n",
       "released  0.001636 -0.010474  0.000868    -0.006411  "
      ]
     },
     "execution_count": 63,
     "metadata": {},
     "output_type": "execute_result"
    }
   ],
   "source": [
    "file_numerized.corr(numeric_only=True).head()"
   ]
  },
  {
   "cell_type": "code",
   "execution_count": 64,
   "id": "fef3534b-149e-44e2-9db5-5992a42b69b0",
   "metadata": {
    "scrolled": true
   },
   "outputs": [
    {
     "data": {
      "text/plain": [
       "Text(50.72222222222221, 0.5, 'Movie features')"
      ]
     },
     "execution_count": 64,
     "metadata": {},
     "output_type": "execute_result"
    },
    {
     "data": {
      "image/png": "[encoded data removed]",
      "text/plain": [
       "<Figure size 640x480 with 2 Axes>"
      ]
     },
     "metadata": {},
     "output_type": "display_data"
    }
   ],
   "source": [
    "sns.heatmap(file_numerized.corr(numeric_only=True,method='pearson'),annot=True, annot_kws={\"size\": 5})\n",
    "plot.title('Correlation of movie features')\n",
    "plot.xlabel('Movie features')\n",
    "plot.ylabel('Movie features')\n",
    "\n",
    "\n"
   ]
  },
  {
   "cell_type": "code",
   "execution_count": 65,
   "id": "d22b08ba-a52c-4f25-8df5-5a22b5c29f08",
   "metadata": {},
   "outputs": [],
   "source": [
    "correlation_mat=file_numerized.corr(numeric_only=True)"
   ]
  },
  {
   "cell_type": "code",
   "execution_count": 66,
   "id": "86f5756b-704b-4af1-a870-dc9bdc5dcaea",
   "metadata": {},
   "outputs": [],
   "source": [
    "corr_pairs=correlation_mat.unstack()"
   ]
  },
  {
   "cell_type": "code",
   "execution_count": 69,
   "id": "505eb32f-a319-48e7-9604-1d4362594b7f",
   "metadata": {},
   "outputs": [
    {
     "data": {
      "text/plain": [
       "name  name        1.000000\n",
       "      rating     -0.008069\n",
       "      genre       0.016355\n",
       "      year        0.011453\n",
       "      released   -0.011311\n",
       "dtype: float64"
      ]
     },
     "execution_count": 69,
     "metadata": {},
     "output_type": "execute_result"
    }
   ],
   "source": [
    "corr_pairs.head()"
   ]
  },
  {
   "cell_type": "code",
   "execution_count": 70,
   "id": "38728b06-4c26-46c2-973e-86f6845b7080",
   "metadata": {},
   "outputs": [],
   "source": [
    "sorted_pairs=corr_pairs.sort_values()"
   ]
  },
  {
   "cell_type": "code",
   "execution_count": 71,
   "id": "455ce6a8-d467-40da-87c9-d6ff3f69591b",
   "metadata": {},
   "outputs": [],
   "source": [
    "high_corr=sorted_pairs[(sorted_pairs)>0.5]"
   ]
  },
  {
   "cell_type": "code",
   "execution_count": 74,
   "id": "4dcb855b-650a-42bd-a045-c9fa3fb0df4d",
   "metadata": {},
   "outputs": [
    {
     "data": {
      "text/plain": [
       "votes        gross          0.628713\n",
       "gross        votes          0.628713\n",
       "budget       gross          0.711270\n",
       "gross        budget         0.711270\n",
       "correctyear  year           0.990063\n",
       "year         correctyear    0.990063\n",
       "name         name           1.000000\n",
       "company      company        1.000000\n",
       "gross        gross          1.000000\n",
       "budget       budget         1.000000\n",
       "country      country        1.000000\n",
       "star         star           1.000000\n",
       "writer       writer         1.000000\n",
       "director     director       1.000000\n",
       "votes        votes          1.000000\n",
       "score        score          1.000000\n",
       "released     released       1.000000\n",
       "year         year           1.000000\n",
       "genre        genre          1.000000\n",
       "rating       rating         1.000000\n",
       "runtime      runtime        1.000000\n",
       "correctyear  correctyear    1.000000\n",
       "dtype: float64"
      ]
     },
     "execution_count": 74,
     "metadata": {},
     "output_type": "execute_result"
    }
   ],
   "source": [
    "high_corr"
   ]
  },
  {
   "cell_type": "code",
   "execution_count": null,
   "id": "992fe177-829e-4497-89b1-fa6b9af2b304",
   "metadata": {},
   "outputs": [],
   "source": [
    "#Votes and gross has highest correlation\n",
    "#correctyear has lowest correlation\n"
   ]
  }
 ],
 "metadata": {
  "kernelspec": {
   "display_name": "Python 3 (ipykernel)",
   "language": "python",
   "name": "python3"
  },
  "language_info": {
   "codemirror_mode": {
    "name": "ipython",
    "version": 3
   },
   "file_extension": ".py",
   "mimetype": "text/x-python",
   "name": "python",
   "nbconvert_exporter": "python",
   "pygments_lexer": "ipython3",
   "version": "3.11.7"
  }
 },
 "nbformat": 4,
 "nbformat_minor": 5
}
